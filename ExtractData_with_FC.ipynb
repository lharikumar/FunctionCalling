{
  "nbformat": 4,
  "nbformat_minor": 0,
  "metadata": {
    "colab": {
      "provenance": [],
      "authorship_tag": "ABX9TyOdoRoe0qjNT0gfz3NvXqy+",
      "include_colab_link": true
    },
    "kernelspec": {
      "name": "python3",
      "display_name": "Python 3"
    },
    "language_info": {
      "name": "python"
    }
  },
  "cells": [
    {
      "cell_type": "markdown",
      "metadata": {
        "id": "view-in-github",
        "colab_type": "text"
      },
      "source": [
        "<a href=\"https://colab.research.google.com/github/lharikumar/FunctionCalling/blob/main/ExtractData_with_FC.ipynb\" target=\"_parent\"><img src=\"https://colab.research.google.com/assets/colab-badge.svg\" alt=\"Open In Colab\"/></a>"
      ]
    },
    {
      "cell_type": "markdown",
      "source": [
        "**Pre-requisites:**\n",
        "\n",
        "1.   Get the OpenAI API key at https://platform.openai.com/account/api-keys\n",
        "2.   We need a text to extract structured data from. I have taken the data from\n",
        "     - https://sports.yahoo.com/us-open-2023-coco-gauff-wins-1st-grand-slam-title-with-wild-comeback-vs-aryna-sabalenka-222431287.html\n",
        "     - https://www.usopen.org/en_US/news/articles/2023-09-10/novak_djokovic_wins_24th_grand_slam_singles_title_at_2023_us_open.html\n",
        "\n",
        "\n",
        "**Note:**\n",
        "\n",
        "*   Store the OpenAI API key as an environment variable. Never use them directly in the code"
      ],
      "metadata": {
        "id": "aq4StepB9lhL"
      }
    },
    {
      "cell_type": "code",
      "execution_count": 1,
      "metadata": {
        "id": "V9d7S4ht9C9N"
      },
      "outputs": [],
      "source": [
        "!pip install -qU python-dotenv openai"
      ]
    },
    {
      "cell_type": "code",
      "source": [
        "import os\n",
        "import dotenv\n",
        "import openai\n",
        "import json"
      ],
      "metadata": {
        "id": "DQbsSJFg9ahd"
      },
      "execution_count": 2,
      "outputs": []
    },
    {
      "cell_type": "code",
      "source": [
        "dotenv.load_dotenv('/content/env_files/.env')\n",
        "openai.api_key = os.getenv('OPENAI_API_KEY')"
      ],
      "metadata": {
        "id": "9nNUYZoB9eYP"
      },
      "execution_count": 3,
      "outputs": []
    },
    {
      "cell_type": "code",
      "source": [
        "def process_extracted_data(people):\n",
        "  json_formatted_str = json.dumps(people, indent=2)\n",
        "  return(json_formatted_str)"
      ],
      "metadata": {
        "id": "ZELPAqQeIASk"
      },
      "execution_count": 4,
      "outputs": []
    },
    {
      "cell_type": "code",
      "source": [
        "tmplist =  [{\"name\":\"n1\",\"birthday\":\"January 1, 1900\", \"profession\" : \"p1\", \"home_country\": \"h1\"},{\"name\":\"n2\",\"birthday\":\"December 1, 1900\", \"profession\" : \"p2\", \"home_country\": \"h2\"}]\n",
        "\n",
        "print(process_extracted_data(tmplist))"
      ],
      "metadata": {
        "colab": {
          "base_uri": "https://localhost:8080/"
        },
        "id": "yFPb_xizJp71",
        "outputId": "139134bb-fa55-4d73-b7aa-3606aa80fd33"
      },
      "execution_count": 5,
      "outputs": [
        {
          "output_type": "stream",
          "name": "stdout",
          "text": [
            "[\n",
            "  {\n",
            "    \"name\": \"n1\",\n",
            "    \"birthday\": \"January 1, 1900\",\n",
            "    \"profession\": \"p1\",\n",
            "    \"home_country\": \"h1\"\n",
            "  },\n",
            "  {\n",
            "    \"name\": \"n2\",\n",
            "    \"birthday\": \"December 1, 1900\",\n",
            "    \"profession\": \"p2\",\n",
            "    \"home_country\": \"h2\"\n",
            "  }\n",
            "]\n"
          ]
        }
      ]
    },
    {
      "cell_type": "code",
      "source": [
        "text1 = \"Novak Djokovic handled the weight of history to defeat Daniil Medvedev on Sunday in the 2023 US Open men's singles final. With a 6-3, 7-6(5), 6-3 victory, the 36-year-old won his 24th Grand Slam singles title, tying Margaret Court's record and bolstering his case to be considered the greatest tennis player of all time.\\\"To make the history of this sport is something truly remarkable and special,\\\" Djokovic said during the trophy ceremony. \\\"I never imagined that I would be here talking about 24 Slams. I never thought that would be the reality, but the last couple of years I felt I have a chance, I have a shot at history—and why not grab it if it's presented.\\\"\""
      ],
      "metadata": {
        "id": "fmLnNNPiXipx"
      },
      "execution_count": 6,
      "outputs": []
    },
    {
      "cell_type": "code",
      "source": [
        "text2 = \"Coco Gauff has been earmarked as the future of women's tennis since she was 15 years old. That future arrived at the US Open on Saturday, in the form of her first Grand Slam championship. The 19-year-old American outlasted No. 2 seed Aryna Sabalenka, the new top-ranked player in the WTA, in a 2-6, 6-3, 6-2 thriller in the US Open final at Arthur Ashe Stadium. She becomes the 11th teenager to ever win a Grand Slam singles title, and the question now becomes how many more are in front of her.\""
      ],
      "metadata": {
        "id": "ZK3Gc-ZjXiMA"
      },
      "execution_count": 7,
      "outputs": []
    },
    {
      "cell_type": "markdown",
      "source": [
        "# OpenAI Function Calling"
      ],
      "metadata": {
        "id": "7tnzVUuiI6-0"
      }
    },
    {
      "cell_type": "markdown",
      "source": [
        "## Text 1"
      ],
      "metadata": {
        "id": "0IrcG1Rag8EU"
      }
    },
    {
      "cell_type": "markdown",
      "source": [
        "## Step 1 - Call the model with functions and the user’s input (text1)"
      ],
      "metadata": {
        "id": "JXzYX99TI75a"
      }
    },
    {
      "cell_type": "code",
      "source": [
        "messages = [{\"role\": \"user\", \"content\": text1}]"
      ],
      "metadata": {
        "id": "tF79j9Ge_Dic"
      },
      "execution_count": 8,
      "outputs": []
    },
    {
      "cell_type": "code",
      "source": [
        "functions = [\n",
        "        {\n",
        "            \"name\": \"extract_structured_data\",\n",
        "            \"description\": \"Extraction of all individuals mentioned in the article, including their names, birthdays, profession and home country.\",\n",
        "            \"parameters\": {\n",
        "                \"type\": \"object\",\n",
        "                \"properties\": {\n",
        "                    \"people\": {\n",
        "                        \"type\": \"array\",\n",
        "                        \"items\": {\n",
        "                            \"type\": \"object\",\n",
        "                            \"properties\": {\n",
        "                                \"name\" : {\n",
        "                                    \"type\": \"string\",\n",
        "                                    \"description\": \"Name of the individual\"\n",
        "                                },\n",
        "                                \"birthday\" : {\n",
        "                                    \"type\": \"string\",\n",
        "                                    \"description\": \"Birthday of the individual\"\n",
        "                                },\n",
        "                               \"profession\" : {\n",
        "                                    \"type\": \"string\",\n",
        "                                    \"description\": \"Profession of the individual\"\n",
        "                                },\n",
        "                                \"home_country\" : {\n",
        "                                    \"type\": \"string\",\n",
        "                                    \"description\": \"Home country of the individual\"\n",
        "                                }\n",
        "                            }\n",
        "                        }\n",
        "                    },\n",
        "                },\n",
        "                \"required\": [\"people\"],\n",
        "            },\n",
        "        }\n",
        "    ]"
      ],
      "metadata": {
        "id": "oz16ipv_ECVr"
      },
      "execution_count": 9,
      "outputs": []
    },
    {
      "cell_type": "code",
      "source": [
        "available_functions = {\n",
        "            \"extract_structured_data\": process_extracted_data,\n",
        "        }"
      ],
      "metadata": {
        "id": "cYc9EZdYIvOv"
      },
      "execution_count": 10,
      "outputs": []
    },
    {
      "cell_type": "code",
      "source": [
        "response = openai.ChatCompletion.create(\n",
        "        model=\"gpt-3.5-turbo-0613\",\n",
        "        messages=messages,\n",
        "        functions=functions,\n",
        "        function_call=\"auto\"\n",
        "    )"
      ],
      "metadata": {
        "id": "M9jiUULwFYBd"
      },
      "execution_count": 11,
      "outputs": []
    },
    {
      "cell_type": "markdown",
      "source": [
        "## Step 2 - Use the model response to call your API"
      ],
      "metadata": {
        "id": "b34E1nJWHu28"
      }
    },
    {
      "cell_type": "code",
      "source": [
        "response_msg = response.choices[0].message\n",
        "if response_msg.get(\"function_call\"):\n",
        "    function_name = response_msg[\"function_call\"][\"name\"]\n",
        "    function_to_call = available_functions[function_name]\n",
        "    function_args = json.loads(response_msg[\"function_call\"][\"arguments\"])\n",
        "    function_response = function_to_call(\n",
        "            people=function_args.get(\"people\")\n",
        "    )"
      ],
      "metadata": {
        "id": "eZyqJ5TGJKRA"
      },
      "execution_count": 12,
      "outputs": []
    },
    {
      "cell_type": "code",
      "source": [
        "print(response_msg)"
      ],
      "metadata": {
        "colab": {
          "base_uri": "https://localhost:8080/"
        },
        "id": "ZYarND03JRud",
        "outputId": "c2eabf2d-f3d7-4ed4-928b-cf3ee71af1c6"
      },
      "execution_count": 13,
      "outputs": [
        {
          "output_type": "stream",
          "name": "stdout",
          "text": [
            "{\n",
            "  \"role\": \"assistant\",\n",
            "  \"content\": null,\n",
            "  \"function_call\": {\n",
            "    \"name\": \"extract_structured_data\",\n",
            "    \"arguments\": \"{\\n  \\\"people\\\": [\\n    {\\n      \\\"name\\\": \\\"Novak Djokovic\\\",\\n      \\\"birthday\\\": \\\"May 22, 1987\\\",\\n      \\\"profession\\\": \\\"Tennis Player\\\",\\n      \\\"home_country\\\": \\\"Serbia\\\"\\n    },\\n    {\\n      \\\"name\\\": \\\"Daniil Medvedev\\\",\\n      \\\"birthday\\\": \\\"February 11, 1996\\\",\\n      \\\"profession\\\": \\\"Tennis Player\\\",\\n      \\\"home_country\\\": \\\"Russia\\\"\\n    },\\n    {\\n      \\\"name\\\": \\\"Margaret Court\\\",\\n      \\\"birthday\\\": \\\"July 16, 1942\\\",\\n      \\\"profession\\\": \\\"Tennis Player\\\",\\n      \\\"home_country\\\": \\\"Australia\\\"\\n    }\\n  ]\\n}\"\n",
            "  }\n",
            "}\n"
          ]
        }
      ]
    },
    {
      "cell_type": "code",
      "source": [
        "print(function_response)"
      ],
      "metadata": {
        "colab": {
          "base_uri": "https://localhost:8080/"
        },
        "id": "pjwR4HJ0JWC4",
        "outputId": "73cef079-239a-4125-f01d-6fc629409e5e"
      },
      "execution_count": 14,
      "outputs": [
        {
          "output_type": "stream",
          "name": "stdout",
          "text": [
            "[\n",
            "  {\n",
            "    \"name\": \"Novak Djokovic\",\n",
            "    \"birthday\": \"May 22, 1987\",\n",
            "    \"profession\": \"Tennis Player\",\n",
            "    \"home_country\": \"Serbia\"\n",
            "  },\n",
            "  {\n",
            "    \"name\": \"Daniil Medvedev\",\n",
            "    \"birthday\": \"February 11, 1996\",\n",
            "    \"profession\": \"Tennis Player\",\n",
            "    \"home_country\": \"Russia\"\n",
            "  },\n",
            "  {\n",
            "    \"name\": \"Margaret Court\",\n",
            "    \"birthday\": \"July 16, 1942\",\n",
            "    \"profession\": \"Tennis Player\",\n",
            "    \"home_country\": \"Australia\"\n",
            "  }\n",
            "]\n"
          ]
        }
      ]
    },
    {
      "cell_type": "markdown",
      "source": [
        "## Step 3 - Send the response back to the model to summarize"
      ],
      "metadata": {
        "id": "o3BP3Q6nJcII"
      }
    },
    {
      "cell_type": "code",
      "source": [
        "messages.append(response_msg)  # extend conversation with assistant's reply\n",
        "messages.append(\n",
        "            {\n",
        "                \"role\": \"function\",\n",
        "                \"name\": function_name,\n",
        "                \"content\": function_response,\n",
        "            }\n",
        "        )  # extend conversation with function response\n",
        "response_to_user = openai.ChatCompletion.create(\n",
        "            model=\"gpt-3.5-turbo-0613\",\n",
        "            messages=messages,\n",
        "        )  # get a new response from GPT where it can see the function response"
      ],
      "metadata": {
        "id": "nXzWik2bJcxx"
      },
      "execution_count": 15,
      "outputs": []
    },
    {
      "cell_type": "code",
      "source": [
        "response_to_user"
      ],
      "metadata": {
        "colab": {
          "base_uri": "https://localhost:8080/"
        },
        "id": "CluIPRuRJhtd",
        "outputId": "1dcacf0c-6a0a-4ff2-9bf4-df73834306ad"
      },
      "execution_count": 16,
      "outputs": [
        {
          "output_type": "execute_result",
          "data": {
            "text/plain": [
              "<OpenAIObject chat.completion id=chatcmpl-7yNdusJmfLapiUmVyCIpiNzJaHIgz at 0x7d1b118c8770> JSON: {\n",
              "  \"id\": \"chatcmpl-7yNdusJmfLapiUmVyCIpiNzJaHIgz\",\n",
              "  \"object\": \"chat.completion\",\n",
              "  \"created\": 1694624918,\n",
              "  \"model\": \"gpt-3.5-turbo-0613\",\n",
              "  \"choices\": [\n",
              "    {\n",
              "      \"index\": 0,\n",
              "      \"message\": {\n",
              "        \"role\": \"assistant\",\n",
              "        \"content\": \"Novak Djokovic is a tennis player from Serbia who was born on May 22, 1987. Daniil Medvedev is also a tennis player, hailing from Russia, born on February 11, 1996. Margaret Court, another tennis player, was born on July 16, 1942, and represents Australia.\"\n",
              "      },\n",
              "      \"finish_reason\": \"stop\"\n",
              "    }\n",
              "  ],\n",
              "  \"usage\": {\n",
              "    \"prompt_tokens\": 468,\n",
              "    \"completion_tokens\": 71,\n",
              "    \"total_tokens\": 539\n",
              "  }\n",
              "}"
            ]
          },
          "metadata": {},
          "execution_count": 16
        }
      ]
    },
    {
      "cell_type": "markdown",
      "source": [
        "## Text 2"
      ],
      "metadata": {
        "id": "CBd63q5uhcAJ"
      }
    },
    {
      "cell_type": "markdown",
      "source": [
        "## Step 1 - Call the model with functions and the user’s input (text2)"
      ],
      "metadata": {
        "id": "FRUYRfKmGber"
      }
    },
    {
      "cell_type": "code",
      "source": [
        "messages = [{\"role\": \"user\", \"content\": text2}]"
      ],
      "metadata": {
        "id": "BwmAWZHGGdG0"
      },
      "execution_count": 17,
      "outputs": []
    },
    {
      "cell_type": "code",
      "source": [
        "functions = [\n",
        "        {\n",
        "            \"name\": \"extract_structured_data\",\n",
        "            \"description\": \"Extraction of all individuals mentioned in the article, including their names, birthdays, profession and home country.\",\n",
        "            \"parameters\": {\n",
        "                \"type\": \"object\",\n",
        "                \"properties\": {\n",
        "                    \"people\": {\n",
        "                        \"type\": \"array\",\n",
        "                        \"items\": {\n",
        "                            \"type\": \"object\",\n",
        "                            \"properties\": {\n",
        "                                \"name\" : {\n",
        "                                    \"type\": \"string\",\n",
        "                                    \"description\": \"Name of the individual\"\n",
        "                                },\n",
        "                                \"birthday\" : {\n",
        "                                    \"type\": \"string\",\n",
        "                                    \"description\": \"Birthday of the individual\"\n",
        "                                },\n",
        "                               \"profession\" : {\n",
        "                                    \"type\": \"string\",\n",
        "                                    \"description\": \"Profession of the individual\"\n",
        "                                },\n",
        "                                \"home_country\" : {\n",
        "                                    \"type\": \"string\",\n",
        "                                    \"description\": \"Home country of the individual\"\n",
        "                                }\n",
        "                            }\n",
        "                        }\n",
        "                    },\n",
        "                },\n",
        "                \"required\": [\"people\"],\n",
        "            },\n",
        "        }\n",
        "    ]"
      ],
      "metadata": {
        "id": "uE1fnbV-GhxT"
      },
      "execution_count": 18,
      "outputs": []
    },
    {
      "cell_type": "code",
      "source": [
        "available_functions = {\n",
        "            \"extract_structured_data\": process_extracted_data,\n",
        "        }"
      ],
      "metadata": {
        "id": "WEhAuvP5Gl6P"
      },
      "execution_count": 19,
      "outputs": []
    },
    {
      "cell_type": "code",
      "source": [
        "response = openai.ChatCompletion.create(\n",
        "        model=\"gpt-3.5-turbo-0613\",\n",
        "        messages=messages,\n",
        "        functions=functions,\n",
        "        function_call=\"auto\"\n",
        "    )"
      ],
      "metadata": {
        "id": "9pvgO5WTcYeT"
      },
      "execution_count": 20,
      "outputs": []
    },
    {
      "cell_type": "markdown",
      "source": [
        "## Step 2 - Use the model response to call your API"
      ],
      "metadata": {
        "id": "DEJnEv5CceQl"
      }
    },
    {
      "cell_type": "code",
      "source": [
        "response_msg = response.choices[0].message\n",
        "if response_msg.get(\"function_call\"):\n",
        "    function_name = response_msg[\"function_call\"][\"name\"]\n",
        "    function_to_call = available_functions[function_name]\n",
        "    function_args = json.loads(response_msg[\"function_call\"][\"arguments\"])\n",
        "    function_response = function_to_call(\n",
        "            people=function_args.get(\"people\")\n",
        "    )"
      ],
      "metadata": {
        "id": "GcalBIcUckG3"
      },
      "execution_count": 21,
      "outputs": []
    },
    {
      "cell_type": "code",
      "source": [
        "print(response_msg)"
      ],
      "metadata": {
        "colab": {
          "base_uri": "https://localhost:8080/"
        },
        "id": "Lr2V5nlkeYOw",
        "outputId": "96cf90e7-bc53-4528-de72-e2c1b3598806"
      },
      "execution_count": 22,
      "outputs": [
        {
          "output_type": "stream",
          "name": "stdout",
          "text": [
            "{\n",
            "  \"role\": \"assistant\",\n",
            "  \"content\": null,\n",
            "  \"function_call\": {\n",
            "    \"name\": \"extract_structured_data\",\n",
            "    \"arguments\": \"{\\n  \\\"people\\\": [\\n    {\\n      \\\"name\\\": \\\"Coco Gauff\\\",\\n      \\\"birthday\\\": \\\"March 13, 2004\\\",\\n      \\\"profession\\\": \\\"Tennis player\\\",\\n      \\\"home_country\\\": \\\"United States\\\"\\n    },\\n    {\\n      \\\"name\\\": \\\"Aryna Sabalenka\\\",\\n      \\\"birthday\\\": \\\"May 5, 1998\\\",\\n      \\\"profession\\\": \\\"Tennis player\\\",\\n      \\\"home_country\\\": \\\"Belarus\\\"\\n    }\\n  ]\\n}\"\n",
            "  }\n",
            "}\n"
          ]
        }
      ]
    },
    {
      "cell_type": "code",
      "source": [
        "print(function_response)"
      ],
      "metadata": {
        "colab": {
          "base_uri": "https://localhost:8080/"
        },
        "id": "Q_YVNFU6ehPi",
        "outputId": "d0ce2130-2352-4918-f262-c81b55a8fa3e"
      },
      "execution_count": 24,
      "outputs": [
        {
          "output_type": "stream",
          "name": "stdout",
          "text": [
            "[\n",
            "  {\n",
            "    \"name\": \"Coco Gauff\",\n",
            "    \"birthday\": \"March 13, 2004\",\n",
            "    \"profession\": \"Tennis player\",\n",
            "    \"home_country\": \"United States\"\n",
            "  },\n",
            "  {\n",
            "    \"name\": \"Aryna Sabalenka\",\n",
            "    \"birthday\": \"May 5, 1998\",\n",
            "    \"profession\": \"Tennis player\",\n",
            "    \"home_country\": \"Belarus\"\n",
            "  }\n",
            "]\n"
          ]
        }
      ]
    },
    {
      "cell_type": "markdown",
      "source": [
        "## Step 3 - Send the response back to the model to summarize"
      ],
      "metadata": {
        "id": "DBymk915etv7"
      }
    },
    {
      "cell_type": "code",
      "source": [
        "messages.append(response_msg)  # extend conversation with assistant's reply\n",
        "messages.append(\n",
        "            {\n",
        "                \"role\": \"function\",\n",
        "                \"name\": function_name,\n",
        "                \"content\": function_response,\n",
        "            }\n",
        "        )  # extend conversation with function response\n",
        "response_to_user = openai.ChatCompletion.create(\n",
        "            model=\"gpt-3.5-turbo-0613\",\n",
        "            messages=messages,\n",
        "        )  # get a new response from GPT where it can see the function response"
      ],
      "metadata": {
        "id": "vTBp14WceucT"
      },
      "execution_count": 25,
      "outputs": []
    },
    {
      "cell_type": "code",
      "source": [
        "response_to_user"
      ],
      "metadata": {
        "colab": {
          "base_uri": "https://localhost:8080/"
        },
        "id": "GO4v2yGGeyl7",
        "outputId": "1d37f8f6-9ef2-44e4-d9f4-da516362963f"
      },
      "execution_count": 26,
      "outputs": [
        {
          "output_type": "execute_result",
          "data": {
            "text/plain": [
              "<OpenAIObject chat.completion id=chatcmpl-7yNecgmZd5mNsq2SsTqFDHYFZSLgp at 0x7d1b118ca980> JSON: {\n",
              "  \"id\": \"chatcmpl-7yNecgmZd5mNsq2SsTqFDHYFZSLgp\",\n",
              "  \"object\": \"chat.completion\",\n",
              "  \"created\": 1694624962,\n",
              "  \"model\": \"gpt-3.5-turbo-0613\",\n",
              "  \"choices\": [\n",
              "    {\n",
              "      \"index\": 0,\n",
              "      \"message\": {\n",
              "        \"role\": \"assistant\",\n",
              "        \"content\": \"Coco Gauff, born on March 13, 2004, is an American tennis player who won her first Grand Slam championship at the US Open. She has been regarded as the future of women's tennis since she was 15 years old. In the final, she defeated Aryna Sabalenka, a Belarusian tennis player born on May 5, 1998, who was the No. 2 seed and new top-ranked player in the WTA at the time. Coco Gauff's victory made her the 11th teenager in history to win a Grand Slam singles title. The question now is how many more Grand Slam titles she will win in the future.\"\n",
              "      },\n",
              "      \"finish_reason\": \"stop\"\n",
              "    }\n",
              "  ],\n",
              "  \"usage\": {\n",
              "    \"prompt_tokens\": 350,\n",
              "    \"completion_tokens\": 138,\n",
              "    \"total_tokens\": 488\n",
              "  }\n",
              "}"
            ]
          },
          "metadata": {},
          "execution_count": 26
        }
      ]
    }
  ]
}