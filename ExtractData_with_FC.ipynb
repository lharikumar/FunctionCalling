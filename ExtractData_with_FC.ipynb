{
  "nbformat": 4,
  "nbformat_minor": 0,
  "metadata": {
    "colab": {
      "provenance": [],
      "authorship_tag": "ABX9TyOxsLS/sbYS7alK6ha6LxQ3",
      "include_colab_link": true
    },
    "kernelspec": {
      "name": "python3",
      "display_name": "Python 3"
    },
    "language_info": {
      "name": "python"
    }
  },
  "cells": [
    {
      "cell_type": "markdown",
      "metadata": {
        "id": "view-in-github",
        "colab_type": "text"
      },
      "source": [
        "<a href=\"https://colab.research.google.com/github/lharikumar/FunctionCalling/blob/main/ExtractData_with_FC.ipynb\" target=\"_parent\"><img src=\"https://colab.research.google.com/assets/colab-badge.svg\" alt=\"Open In Colab\"/></a>"
      ]
    },
    {
      "cell_type": "markdown",
      "source": [
        "**Pre-requisites:**\n",
        "\n",
        "1.   Get the OpenAI API key at https://platform.openai.com/account/api-keys\n",
        "2.   We need a text to extract structured data from. I have taken the data from\n",
        "     - https://sports.yahoo.com/us-open-2023-coco-gauff-wins-1st-grand-slam-title-with-wild-comeback-vs-aryna-sabalenka-222431287.html\n",
        "     - https://www.usopen.org/en_US/news/articles/2023-09-10/novak_djokovic_wins_24th_grand_slam_singles_title_at_2023_us_open.html\n",
        "\n",
        "\n",
        "**Note:**\n",
        "\n",
        "*   Store the OpenAI API key as an environment variable. Never use them directly in the code"
      ],
      "metadata": {
        "id": "aq4StepB9lhL"
      }
    },
    {
      "cell_type": "code",
      "execution_count": 44,
      "metadata": {
        "id": "V9d7S4ht9C9N"
      },
      "outputs": [],
      "source": [
        "!pip install -qU python-dotenv openai"
      ]
    },
    {
      "cell_type": "code",
      "source": [
        "import os\n",
        "import dotenv\n",
        "import openai\n",
        "import json"
      ],
      "metadata": {
        "id": "DQbsSJFg9ahd"
      },
      "execution_count": 45,
      "outputs": []
    },
    {
      "cell_type": "code",
      "source": [
        "dotenv.load_dotenv('/content/env_files/.env')\n",
        "openai.api_key = os.getenv('OPENAI_API_KEY')"
      ],
      "metadata": {
        "id": "9nNUYZoB9eYP"
      },
      "execution_count": 46,
      "outputs": []
    },
    {
      "cell_type": "code",
      "source": [
        "# Converts a list into a JSON formatted string\n",
        "def format_json(people):\n",
        "  json_formatted_str = json.dumps(people, indent=2)\n",
        "  return(json_formatted_str)"
      ],
      "metadata": {
        "id": "ZELPAqQeIASk"
      },
      "execution_count": 47,
      "outputs": []
    },
    {
      "cell_type": "code",
      "source": [
        "tmplist =  [{\"name\":\"n1\",\"birthday\":\"January 1, 1900\", \"profession\" : \"p1\", \"home_country\": \"h1\"},{\"name\":\"n2\",\"birthday\":\"December 1, 1900\", \"profession\" : \"p2\", \"home_country\": \"h2\"}]\n",
        "\n",
        "print(format_json(tmplist))"
      ],
      "metadata": {
        "colab": {
          "base_uri": "https://localhost:8080/"
        },
        "id": "yFPb_xizJp71",
        "outputId": "37b31966-9d4d-43a5-d03b-89fc48910808"
      },
      "execution_count": 48,
      "outputs": [
        {
          "output_type": "stream",
          "name": "stdout",
          "text": [
            "[\n",
            "  {\n",
            "    \"name\": \"n1\",\n",
            "    \"birthday\": \"January 1, 1900\",\n",
            "    \"profession\": \"p1\",\n",
            "    \"home_country\": \"h1\"\n",
            "  },\n",
            "  {\n",
            "    \"name\": \"n2\",\n",
            "    \"birthday\": \"December 1, 1900\",\n",
            "    \"profession\": \"p2\",\n",
            "    \"home_country\": \"h2\"\n",
            "  }\n",
            "]\n"
          ]
        }
      ]
    },
    {
      "cell_type": "code",
      "source": [
        "text1 = \"Coco Gauff has been earmarked as the future of women's tennis since she was 15 years old. That future arrived at the US Open on Saturday, in the form of her first Grand Slam championship. The 19-year-old American outlasted No. 2 seed Aryna Sabalenka, the new top-ranked player in the WTA, in a 2-6, 6-3, 6-2 thriller in the US Open final at Arthur Ashe Stadium. She becomes the 11th teenager to ever win a Grand Slam singles title, and the question now becomes how many more are in front of her.\""
      ],
      "metadata": {
        "id": "ZK3Gc-ZjXiMA"
      },
      "execution_count": 49,
      "outputs": []
    },
    {
      "cell_type": "code",
      "source": [
        "text2 = \"Novak Djokovic handled the weight of history to defeat Daniil Medvedev on Sunday in the 2023 US Open men's singles final. With a 6-3, 7-6(5), 6-3 victory, the 36-year-old won his 24th Grand Slam singles title, tying Margaret Court's record and bolstering his case to be considered the greatest tennis player of all time.\\\"To make the history of this sport is something truly remarkable and special,\\\" Djokovic said during the trophy ceremony. \\\"I never imagined that I would be here talking about 24 Slams. I never thought that would be the reality, but the last couple of years I felt I have a chance, I have a shot at history—and why not grab it if it's presented.\\\"\""
      ],
      "metadata": {
        "id": "fmLnNNPiXipx"
      },
      "execution_count": 50,
      "outputs": []
    },
    {
      "cell_type": "markdown",
      "source": [
        "# OpenAI Function Calling"
      ],
      "metadata": {
        "id": "7tnzVUuiI6-0"
      }
    },
    {
      "cell_type": "markdown",
      "source": [
        "## Text 1"
      ],
      "metadata": {
        "id": "0IrcG1Rag8EU"
      }
    },
    {
      "cell_type": "markdown",
      "source": [
        "## Step 1 - Call the model with functions and the user’s input (text1)"
      ],
      "metadata": {
        "id": "JXzYX99TI75a"
      }
    },
    {
      "cell_type": "code",
      "source": [
        "functions = [\n",
        "        {\n",
        "            \"name\": \"extract_structured_data\",\n",
        "            \"description\": \"Extraction of all individuals mentioned in the article, including their names, birthdays, profession and home country.\",\n",
        "            \"parameters\": {\n",
        "                \"type\": \"object\",\n",
        "                \"properties\": {\n",
        "                    \"people\": {\n",
        "                        \"type\": \"array\",\n",
        "                        \"items\": {\n",
        "                            \"type\": \"object\",\n",
        "                            \"properties\": {\n",
        "                                \"name\" : {\n",
        "                                    \"type\": \"string\",\n",
        "                                    \"description\": \"Name of the individual\"\n",
        "                                },\n",
        "                                \"birthday\" : {\n",
        "                                    \"type\": \"string\",\n",
        "                                    \"description\": \"Birthday of the individual\"\n",
        "                                },\n",
        "                               \"profession\" : {\n",
        "                                    \"type\": \"string\",\n",
        "                                    \"description\": \"Profession of the individual\"\n",
        "                                },\n",
        "                                \"home_country\" : {\n",
        "                                    \"type\": \"string\",\n",
        "                                    \"description\": \"Home country of the individual\"\n",
        "                                }\n",
        "                            }\n",
        "                        }\n",
        "                    },\n",
        "                },\n",
        "                \"required\": [\"people\"],\n",
        "            },\n",
        "        }\n",
        "    ]"
      ],
      "metadata": {
        "id": "oz16ipv_ECVr"
      },
      "execution_count": 51,
      "outputs": []
    },
    {
      "cell_type": "code",
      "source": [
        "available_functions = {\n",
        "            \"extract_structured_data\": format_json,\n",
        "        }"
      ],
      "metadata": {
        "id": "cYc9EZdYIvOv"
      },
      "execution_count": 52,
      "outputs": []
    },
    {
      "cell_type": "code",
      "source": [
        "messages = [{\"role\": \"user\", \"content\": text1}]"
      ],
      "metadata": {
        "id": "tF79j9Ge_Dic"
      },
      "execution_count": 53,
      "outputs": []
    },
    {
      "cell_type": "code",
      "source": [
        "response = openai.ChatCompletion.create(\n",
        "        model=\"gpt-3.5-turbo-0613\",\n",
        "        messages=messages,\n",
        "        functions=functions,\n",
        "        function_call=\"auto\"\n",
        "    )"
      ],
      "metadata": {
        "id": "M9jiUULwFYBd"
      },
      "execution_count": 54,
      "outputs": []
    },
    {
      "cell_type": "markdown",
      "source": [
        "## Step 2 - Use the model response to call your API"
      ],
      "metadata": {
        "id": "b34E1nJWHu28"
      }
    },
    {
      "cell_type": "code",
      "source": [
        "response_msg = response.choices[0].message"
      ],
      "metadata": {
        "id": "eZyqJ5TGJKRA"
      },
      "execution_count": 55,
      "outputs": []
    },
    {
      "cell_type": "code",
      "source": [
        "print(response_msg)"
      ],
      "metadata": {
        "colab": {
          "base_uri": "https://localhost:8080/"
        },
        "id": "ZYarND03JRud",
        "outputId": "11583857-a257-4c92-b28e-dc6e7b79bd21"
      },
      "execution_count": 56,
      "outputs": [
        {
          "output_type": "stream",
          "name": "stdout",
          "text": [
            "{\n",
            "  \"role\": \"assistant\",\n",
            "  \"content\": null,\n",
            "  \"function_call\": {\n",
            "    \"name\": \"extract_structured_data\",\n",
            "    \"arguments\": \"{\\n  \\\"people\\\": [\\n    {\\n      \\\"name\\\": \\\"Coco Gauff\\\",\\n      \\\"birthday\\\": \\\"2004-03-13\\\",\\n      \\\"profession\\\": \\\"tennis player\\\",\\n      \\\"home_country\\\": \\\"United States\\\"\\n    },\\n    {\\n      \\\"name\\\": \\\"Aryna Sabalenka\\\",\\n      \\\"birthday\\\": \\\"1998-05-05\\\",\\n      \\\"profession\\\": \\\"tennis player\\\",\\n      \\\"home_country\\\": \\\"Belarus\\\"\\n    }\\n  ]\\n}\"\n",
            "  }\n",
            "}\n"
          ]
        }
      ]
    },
    {
      "cell_type": "code",
      "source": [
        "if response_msg.get(\"function_call\"):\n",
        "    function_name = response_msg[\"function_call\"][\"name\"]\n",
        "    function_to_call = available_functions[function_name]\n",
        "    function_args = json.loads(response_msg[\"function_call\"][\"arguments\"])\n",
        "    function_response = function_to_call(\n",
        "            people=function_args.get(\"people\")\n",
        "    )"
      ],
      "metadata": {
        "id": "zOwsB5MJGE-1"
      },
      "execution_count": 57,
      "outputs": []
    },
    {
      "cell_type": "code",
      "source": [
        "print(function_response)"
      ],
      "metadata": {
        "colab": {
          "base_uri": "https://localhost:8080/"
        },
        "id": "pjwR4HJ0JWC4",
        "outputId": "4eb9aee9-9dd0-4595-c987-670ec838a07e"
      },
      "execution_count": 58,
      "outputs": [
        {
          "output_type": "stream",
          "name": "stdout",
          "text": [
            "[\n",
            "  {\n",
            "    \"name\": \"Coco Gauff\",\n",
            "    \"birthday\": \"2004-03-13\",\n",
            "    \"profession\": \"tennis player\",\n",
            "    \"home_country\": \"United States\"\n",
            "  },\n",
            "  {\n",
            "    \"name\": \"Aryna Sabalenka\",\n",
            "    \"birthday\": \"1998-05-05\",\n",
            "    \"profession\": \"tennis player\",\n",
            "    \"home_country\": \"Belarus\"\n",
            "  }\n",
            "]\n"
          ]
        }
      ]
    },
    {
      "cell_type": "markdown",
      "source": [
        "## Step 3 - Send the response back to the model to summarize"
      ],
      "metadata": {
        "id": "o3BP3Q6nJcII"
      }
    },
    {
      "cell_type": "code",
      "source": [
        "messages.append(response_msg)  # extend conversation with assistant's reply\n",
        "messages.append(\n",
        "            {\n",
        "                \"role\": \"function\",\n",
        "                \"name\": function_name,\n",
        "                \"content\": function_response,\n",
        "            }\n",
        "        )  # extend conversation with function response\n",
        "response_to_user = openai.ChatCompletion.create(\n",
        "            model=\"gpt-3.5-turbo-0613\",\n",
        "            messages=messages,\n",
        "        )  # get a new response from GPT where it can see the function response"
      ],
      "metadata": {
        "id": "nXzWik2bJcxx"
      },
      "execution_count": 59,
      "outputs": []
    },
    {
      "cell_type": "code",
      "source": [
        "response_to_user.choices[0].message"
      ],
      "metadata": {
        "colab": {
          "base_uri": "https://localhost:8080/"
        },
        "id": "CluIPRuRJhtd",
        "outputId": "fba731d6-2f6d-4d30-f755-291e6b01d2fe"
      },
      "execution_count": 60,
      "outputs": [
        {
          "output_type": "execute_result",
          "data": {
            "text/plain": [
              "<OpenAIObject at 0x798debbae610> JSON: {\n",
              "  \"role\": \"assistant\",\n",
              "  \"content\": \"Coco Gauff, born on March 13, 2004, is a professional tennis player from the United States. Aryna Sabalenka, born on May 5, 1998, is also a professional tennis player but represents Belarus.\"\n",
              "}"
            ]
          },
          "metadata": {},
          "execution_count": 60
        }
      ]
    },
    {
      "cell_type": "markdown",
      "source": [
        "## Text 2"
      ],
      "metadata": {
        "id": "CBd63q5uhcAJ"
      }
    },
    {
      "cell_type": "markdown",
      "source": [
        "## Step 1 - Call the model with functions and the user’s input (text2)"
      ],
      "metadata": {
        "id": "FRUYRfKmGber"
      }
    },
    {
      "cell_type": "code",
      "source": [
        "messages = [{\"role\": \"user\", \"content\": text2}]"
      ],
      "metadata": {
        "id": "BwmAWZHGGdG0"
      },
      "execution_count": 61,
      "outputs": []
    },
    {
      "cell_type": "code",
      "source": [
        "functions = [\n",
        "        {\n",
        "            \"name\": \"extract_structured_data\",\n",
        "            \"description\": \"Extraction of all individuals mentioned in the article, including their names, birthdays, profession and home country.\",\n",
        "            \"parameters\": {\n",
        "                \"type\": \"object\",\n",
        "                \"properties\": {\n",
        "                    \"people\": {\n",
        "                        \"type\": \"array\",\n",
        "                        \"items\": {\n",
        "                            \"type\": \"object\",\n",
        "                            \"properties\": {\n",
        "                                \"name\" : {\n",
        "                                    \"type\": \"string\",\n",
        "                                    \"description\": \"Name of the individual\"\n",
        "                                },\n",
        "                                \"birthday\" : {\n",
        "                                    \"type\": \"string\",\n",
        "                                    \"description\": \"Birthday of the individual\"\n",
        "                                },\n",
        "                               \"profession\" : {\n",
        "                                    \"type\": \"string\",\n",
        "                                    \"description\": \"Profession of the individual\"\n",
        "                                },\n",
        "                                \"home_country\" : {\n",
        "                                    \"type\": \"string\",\n",
        "                                    \"description\": \"Home country of the individual\"\n",
        "                                }\n",
        "                            }\n",
        "                        }\n",
        "                    },\n",
        "                },\n",
        "                \"required\": [\"people\"],\n",
        "            },\n",
        "        }\n",
        "    ]"
      ],
      "metadata": {
        "id": "uE1fnbV-GhxT"
      },
      "execution_count": 62,
      "outputs": []
    },
    {
      "cell_type": "code",
      "source": [
        "available_functions = {\n",
        "            \"extract_structured_data\": format_json,\n",
        "        }"
      ],
      "metadata": {
        "id": "WEhAuvP5Gl6P"
      },
      "execution_count": 63,
      "outputs": []
    },
    {
      "cell_type": "code",
      "source": [
        "response = openai.ChatCompletion.create(\n",
        "        model=\"gpt-3.5-turbo-0613\",\n",
        "        messages=messages,\n",
        "        functions=functions,\n",
        "        function_call=\"auto\"\n",
        "    )"
      ],
      "metadata": {
        "id": "9pvgO5WTcYeT"
      },
      "execution_count": 64,
      "outputs": []
    },
    {
      "cell_type": "markdown",
      "source": [
        "## Step 2 - Use the model response to call your API"
      ],
      "metadata": {
        "id": "DEJnEv5CceQl"
      }
    },
    {
      "cell_type": "code",
      "source": [
        "response_msg = response.choices[0].message\n",
        "if response_msg.get(\"function_call\"):\n",
        "    function_name = response_msg[\"function_call\"][\"name\"]\n",
        "    function_to_call = available_functions[function_name]\n",
        "    function_args = json.loads(response_msg[\"function_call\"][\"arguments\"])\n",
        "    function_response = function_to_call(\n",
        "            people=function_args.get(\"people\")\n",
        "    )"
      ],
      "metadata": {
        "id": "GcalBIcUckG3"
      },
      "execution_count": 65,
      "outputs": []
    },
    {
      "cell_type": "code",
      "source": [
        "print(response_msg)"
      ],
      "metadata": {
        "colab": {
          "base_uri": "https://localhost:8080/"
        },
        "id": "Lr2V5nlkeYOw",
        "outputId": "f2e65297-2a13-4359-b592-5d74c2bd1dc9"
      },
      "execution_count": 66,
      "outputs": [
        {
          "output_type": "stream",
          "name": "stdout",
          "text": [
            "{\n",
            "  \"role\": \"assistant\",\n",
            "  \"content\": null,\n",
            "  \"function_call\": {\n",
            "    \"name\": \"extract_structured_data\",\n",
            "    \"arguments\": \"{\\n  \\\"people\\\": [\\n    {\\n      \\\"name\\\": \\\"Novak Djokovic\\\",\\n      \\\"birthday\\\": \\\"May 22, 1987\\\",\\n      \\\"profession\\\": \\\"Tennis player\\\",\\n      \\\"home_country\\\": \\\"Serbia\\\"\\n    },\\n    {\\n      \\\"name\\\": \\\"Daniil Medvedev\\\",\\n      \\\"birthday\\\": \\\"February 11, 1996\\\",\\n      \\\"profession\\\": \\\"Tennis player\\\",\\n      \\\"home_country\\\": \\\"Russia\\\"\\n    },\\n    {\\n      \\\"name\\\": \\\"Margaret Court\\\",\\n      \\\"birthday\\\": \\\"July 16, 1942\\\",\\n      \\\"profession\\\": \\\"Former tennis player\\\",\\n      \\\"home_country\\\": \\\"Australia\\\"\\n    }\\n  ]\\n}\"\n",
            "  }\n",
            "}\n"
          ]
        }
      ]
    },
    {
      "cell_type": "code",
      "source": [
        "print(function_response)"
      ],
      "metadata": {
        "colab": {
          "base_uri": "https://localhost:8080/"
        },
        "id": "Q_YVNFU6ehPi",
        "outputId": "f074b34a-9e0d-4580-f01b-d267d625e421"
      },
      "execution_count": 67,
      "outputs": [
        {
          "output_type": "stream",
          "name": "stdout",
          "text": [
            "[\n",
            "  {\n",
            "    \"name\": \"Novak Djokovic\",\n",
            "    \"birthday\": \"May 22, 1987\",\n",
            "    \"profession\": \"Tennis player\",\n",
            "    \"home_country\": \"Serbia\"\n",
            "  },\n",
            "  {\n",
            "    \"name\": \"Daniil Medvedev\",\n",
            "    \"birthday\": \"February 11, 1996\",\n",
            "    \"profession\": \"Tennis player\",\n",
            "    \"home_country\": \"Russia\"\n",
            "  },\n",
            "  {\n",
            "    \"name\": \"Margaret Court\",\n",
            "    \"birthday\": \"July 16, 1942\",\n",
            "    \"profession\": \"Former tennis player\",\n",
            "    \"home_country\": \"Australia\"\n",
            "  }\n",
            "]\n"
          ]
        }
      ]
    },
    {
      "cell_type": "markdown",
      "source": [
        "## Step 3 - Send the response back to the model to summarize"
      ],
      "metadata": {
        "id": "DBymk915etv7"
      }
    },
    {
      "cell_type": "code",
      "source": [
        "messages.append(response_msg)  # extend conversation with assistant's reply\n",
        "messages.append(\n",
        "            {\n",
        "                \"role\": \"function\",\n",
        "                \"name\": function_name,\n",
        "                \"content\": function_response,\n",
        "            }\n",
        "        )  # extend conversation with function response\n",
        "response_to_user = openai.ChatCompletion.create(\n",
        "            model=\"gpt-3.5-turbo-0613\",\n",
        "            messages=messages,\n",
        "        )  # get a new response from GPT where it can see the function response"
      ],
      "metadata": {
        "id": "vTBp14WceucT"
      },
      "execution_count": 68,
      "outputs": []
    },
    {
      "cell_type": "code",
      "source": [
        "response_to_user.choices[0].message"
      ],
      "metadata": {
        "colab": {
          "base_uri": "https://localhost:8080/"
        },
        "id": "GO4v2yGGeyl7",
        "outputId": "d87f06b5-3560-431d-fe2b-f9db44a33e32"
      },
      "execution_count": 69,
      "outputs": [
        {
          "output_type": "execute_result",
          "data": {
            "text/plain": [
              "<OpenAIObject at 0x798debb86660> JSON: {\n",
              "  \"role\": \"assistant\",\n",
              "  \"content\": \"Novak Djokovic, a Serbian tennis player, defeated Daniil Medvedev, a Russian tennis player, in the 2023 US Open men's singles final. With this win, Djokovic secured his 24th Grand Slam singles title, which ties Margaret Court's record. Djokovic's victory strengthens his claim to be considered the greatest tennis player of all time. During the trophy ceremony, Djokovic expressed his astonishment at making history in the sport and his determination to seize the opportunity presented to him. Djokovic was born on May 22, 1987, while Medvedev was born on February 11, 1996. Margaret Court, a former tennis player from Australia, held the previous record that Djokovic matched. Court's birthday is on July 16, 1942.\"\n",
              "}"
            ]
          },
          "metadata": {},
          "execution_count": 69
        }
      ]
    }
  ]
}