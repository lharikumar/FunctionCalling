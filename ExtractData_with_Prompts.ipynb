{
  "nbformat": 4,
  "nbformat_minor": 0,
  "metadata": {
    "colab": {
      "provenance": [],
      "authorship_tag": "ABX9TyOvLiSo1Nbv68PkU74Q3hyV",
      "include_colab_link": true
    },
    "kernelspec": {
      "name": "python3",
      "display_name": "Python 3"
    },
    "language_info": {
      "name": "python"
    }
  },
  "cells": [
    {
      "cell_type": "markdown",
      "metadata": {
        "id": "view-in-github",
        "colab_type": "text"
      },
      "source": [
        "<a href=\"https://colab.research.google.com/github/lharikumar/FunctionCalling/blob/main/ExtractData_with_Prompts.ipynb\" target=\"_parent\"><img src=\"https://colab.research.google.com/assets/colab-badge.svg\" alt=\"Open In Colab\"/></a>"
      ]
    },
    {
      "cell_type": "markdown",
      "source": [
        "## Do the required installs"
      ],
      "metadata": {
        "id": "YdQKzI8qfR9h"
      }
    },
    {
      "cell_type": "code",
      "source": [
        "!pip install -qU openai python-dotenv"
      ],
      "metadata": {
        "id": "Oluyf8s8eSRD",
        "colab": {
          "base_uri": "https://localhost:8080/"
        },
        "outputId": "167538c8-0e6f-47c7-9fcf-bafedbf5184e"
      },
      "execution_count": null,
      "outputs": [
        {
          "output_type": "stream",
          "name": "stdout",
          "text": [
            "\u001b[?25l     \u001b[90m━━━━━━━━━━━━━━━━━━━━━━━━━━━━━━━━━━━━━━━━\u001b[0m \u001b[32m0.0/76.5 kB\u001b[0m \u001b[31m?\u001b[0m eta \u001b[36m-:--:--\u001b[0m\r\u001b[2K     \u001b[91m━━━━━━━━━━━━━━━━━━━━━━━━━━━━━━━━━━━━━\u001b[0m\u001b[90m╺\u001b[0m\u001b[90m━━\u001b[0m \u001b[32m71.7/76.5 kB\u001b[0m \u001b[31m2.3 MB/s\u001b[0m eta \u001b[36m0:00:01\u001b[0m\r\u001b[2K     \u001b[90m━━━━━━━━━━━━━━━━━━━━━━━━━━━━━━━━━━━━━━━━\u001b[0m \u001b[32m76.5/76.5 kB\u001b[0m \u001b[31m1.8 MB/s\u001b[0m eta \u001b[36m0:00:00\u001b[0m\n",
            "\u001b[?25h"
          ]
        }
      ]
    },
    {
      "cell_type": "markdown",
      "source": [
        "## Load the key"
      ],
      "metadata": {
        "id": "cHVSM_7qeXr6"
      }
    },
    {
      "cell_type": "code",
      "source": [
        "import os\n",
        "import dotenv"
      ],
      "metadata": {
        "id": "vDUugsMzeZ7f"
      },
      "execution_count": null,
      "outputs": []
    },
    {
      "cell_type": "code",
      "source": [
        "dotenv.load_dotenv('/content/env_vars/.env')\n",
        "openai_api_key = os.getenv('OPENAI_API_KEY')"
      ],
      "metadata": {
        "id": "09ehdQFsgmgW"
      },
      "execution_count": null,
      "outputs": []
    },
    {
      "cell_type": "markdown",
      "source": [
        "## Analyze text1"
      ],
      "metadata": {
        "id": "YvKhJvw0ivg3"
      }
    },
    {
      "cell_type": "code",
      "source": [
        "# text_to_analyze = \"Brazilian President Luiz Inacio Lula da Silva said on Saturday that Russian leader Vladimir Putin would not be arrested in Brazil if he attends the Group of 20 meeting in Rio de Janeiro next year.\"\n",
        "# text_to_analyze = \"This day, this match, had to come, of course, for Roger Federer, and for tennis, just as it inevitably must for every athlete in every sport. Federer bid adieu Friday night with one last contest before he heads into retirement at age 41 after a superlative career that spanned nearly a quarter-century and included 20 Grand Slam titles and a statesman's role. He wrapped up his days as a professional player with a loss in doubles alongside his longtime rival Rafael Nadal for Team Europe in the Laver Cup against Frances Tiafoe and Jack Sock of Team World.\""
      ],
      "metadata": {
        "id": "7rXi8mITiDAs"
      },
      "execution_count": null,
      "outputs": []
    },
    {
      "cell_type": "code",
      "source": [
        "text1 = \"Novak Djokovic handled the weight of history to defeat Daniil Medvedev on Sunday in the 2023 US Open men's singles final. With a 6-3, 7-6(5), 6-3 victory, the 36-year-old won his 24th Grand Slam singles title, tying Margaret Court's record and bolstering his case to be considered the greatest tennis player of all time.\\\"To make the history of this sport is something truly remarkable and special,\\\" Djokovic said during the trophy ceremony. \\\"I never imagined that I would be here talking about 24 Slams. I never thought that would be the reality, but the last couple of years I felt I have a chance, I have a shot at history—and why not grab it if it's presented.\\\"\""
      ],
      "metadata": {
        "id": "lez2p0vMa_LO"
      },
      "execution_count": null,
      "outputs": []
    },
    {
      "cell_type": "markdown",
      "source": [
        "## Set the prompt"
      ],
      "metadata": {
        "id": "NsMiAqH2i11B"
      }
    },
    {
      "cell_type": "code",
      "source": [
        "prompt = f'''\n",
        "\n",
        "Analyze the provided text to identify all individuals mentioned. For each person, extract their name, date of birth, country of residence, and profession into a JSON object of the format:\n",
        "\n",
        "{{\n",
        "'individuals': [\n",
        "{{\n",
        "'name': 'John Doe',\n",
        "'birthday': '1980-03-15',\n",
        "'country': 'United States',\n",
        "'profession': 'Software Engineer'\n",
        "}},\n",
        "{{\n",
        "'name': 'Jane Smith',\n",
        "'birthday': '1975-11-02',\n",
        "'country': 'Canada',\n",
        "'profession': 'Product Manager'\n",
        "}}\n",
        "]\n",
        "}}\n",
        "\n",
        "If any details for a mentioned individual are missing from the text, perform a search to find the required information and fill it into the JSON response.\n",
        "\n",
        "The goal is to return a JSON object containing complete name, birthday, country, and profession information for all individuals referenced in the provided text passage.\n",
        "Notify if any individuals do not have enough information to complete their attributes after searching.\n",
        "\n",
        "Extract text from:\n",
        "{text1}\n",
        "'''"
      ],
      "metadata": {
        "id": "kLUFCqfpjIgV"
      },
      "execution_count": null,
      "outputs": []
    },
    {
      "cell_type": "code",
      "source": [
        "## Extract information from text as JSON using openai\n",
        "## Model being used - GPT3.5 turbo\n",
        "\n",
        "import openai\n",
        "openai_response = openai.ChatCompletion.create(\n",
        "    model = 'gpt-3.5-turbo-0613',\n",
        "    # openai.api_key = openai_api_key,\n",
        "    messages = [{'role': 'user', 'content': prompt}]\n",
        ")"
      ],
      "metadata": {
        "id": "Z3VblAYdjwto"
      },
      "execution_count": null,
      "outputs": []
    },
    {
      "cell_type": "code",
      "source": [
        "openai_response"
      ],
      "metadata": {
        "colab": {
          "base_uri": "https://localhost:8080/"
        },
        "id": "1m595SK9ktbM",
        "outputId": "d5930917-8fdf-4715-d99d-dd5ad3095be1"
      },
      "execution_count": null,
      "outputs": [
        {
          "output_type": "execute_result",
          "data": {
            "text/plain": [
              "<OpenAIObject chat.completion id=chatcmpl-7yLSgNodW8VOOBy4kuP7f03rkxCTM at 0x7bb235bab8d0> JSON: {\n",
              "  \"id\": \"chatcmpl-7yLSgNodW8VOOBy4kuP7f03rkxCTM\",\n",
              "  \"object\": \"chat.completion\",\n",
              "  \"created\": 1694616534,\n",
              "  \"model\": \"gpt-3.5-turbo-0613\",\n",
              "  \"choices\": [\n",
              "    {\n",
              "      \"index\": 0,\n",
              "      \"message\": {\n",
              "        \"role\": \"assistant\",\n",
              "        \"content\": \"{\\n  \\\"individuals\\\": [\\n    {\\n      \\\"name\\\": \\\"Novak Djokovic\\\",\\n      \\\"birthday\\\": \\\"1987-05-22\\\",\\n      \\\"country\\\": \\\"Serbia\\\",\\n      \\\"profession\\\": \\\"Tennis Player\\\"\\n    },\\n    {\\n      \\\"name\\\": \\\"Daniil Medvedev\\\",\\n      \\\"birthday\\\": \\\"1996-02-11\\\",\\n      \\\"country\\\": \\\"Russia\\\",\\n      \\\"profession\\\": \\\"Tennis Player\\\"\\n    },\\n    {\\n      \\\"name\\\": \\\"Margaret Court\\\",\\n      \\\"birthday\\\": \\\"1942-07-16\\\",\\n      \\\"country\\\": \\\"Australia\\\",\\n      \\\"profession\\\": \\\"Retired Tennis Player\\\"\\n    }\\n  ]\\n}\"\n",
              "      },\n",
              "      \"finish_reason\": \"stop\"\n",
              "    }\n",
              "  ],\n",
              "  \"usage\": {\n",
              "    \"prompt_tokens\": 363,\n",
              "    \"completion_tokens\": 139,\n",
              "    \"total_tokens\": 502\n",
              "  }\n",
              "}"
            ]
          },
          "metadata": {},
          "execution_count": 19
        }
      ]
    },
    {
      "cell_type": "markdown",
      "source": [
        "## Convert to json"
      ],
      "metadata": {
        "id": "5LId0Z0tk6we"
      }
    },
    {
      "cell_type": "code",
      "source": [
        "import json\n",
        "\n",
        "# Loading the response as a JSON object\n",
        "json_response = json.loads(openai_response['choices'][0]['message']['content'])\n",
        "json_response"
      ],
      "metadata": {
        "colab": {
          "base_uri": "https://localhost:8080/"
        },
        "id": "ZMfVYcxpk9C1",
        "outputId": "5846e3dc-dcaa-41b0-dd7a-28c05ae0e8ad"
      },
      "execution_count": null,
      "outputs": [
        {
          "output_type": "execute_result",
          "data": {
            "text/plain": [
              "{'individuals': [{'name': 'Novak Djokovic',\n",
              "   'birthday': '1987-05-22',\n",
              "   'country': 'Serbia',\n",
              "   'profession': 'Tennis Player'},\n",
              "  {'name': 'Daniil Medvedev',\n",
              "   'birthday': '1996-02-11',\n",
              "   'country': 'Russia',\n",
              "   'profession': 'Tennis Player'},\n",
              "  {'name': 'Margaret Court',\n",
              "   'birthday': '1942-07-16',\n",
              "   'country': 'Australia',\n",
              "   'profession': 'Retired Tennis Player'}]}"
            ]
          },
          "metadata": {},
          "execution_count": 20
        }
      ]
    },
    {
      "cell_type": "markdown",
      "source": [
        "## Analyze text2"
      ],
      "metadata": {
        "id": "ZcyUEBMEBaNG"
      }
    },
    {
      "cell_type": "code",
      "source": [
        "text2 = \"Coco Gauff has been earmarked as the future of women's tennis since she was 15 years old. That future arrived at the US Open on Saturday, in the form of her first Grand Slam championship. The 19-year-old American outlasted No. 2 seed Aryna Sabalenka, the new top-ranked player in the WTA, in a 2-6, 6-3, 6-2 thriller in the US Open final at Arthur Ashe Stadium. She becomes the 11th teenager to ever win a Grand Slam singles title, and the question now becomes how many more are in front of her.\""
      ],
      "metadata": {
        "id": "0TkjAXKDBXyh"
      },
      "execution_count": null,
      "outputs": []
    },
    {
      "cell_type": "code",
      "source": [
        "prompt = f'''\n",
        "\n",
        "Analyze the provided text to identify all individuals mentioned. For each person, extract their name, date of birth, country of residence, and profession into a JSON object of the format:\n",
        "\n",
        "{{\n",
        "'individuals': [\n",
        "{{\n",
        "'name': 'John Doe',\n",
        "'birthday': '1980-03-15',\n",
        "'country': 'United States',\n",
        "'profession': 'Software Engineer'\n",
        "}},\n",
        "{{\n",
        "'name': 'Jane Smith',\n",
        "'birthday': '1975-11-02',\n",
        "'country': 'Canada',\n",
        "'profession': 'Product Manager'\n",
        "}}\n",
        "]\n",
        "}}\n",
        "\n",
        "If any details for a mentioned individual are missing from the text, perform a search to find the required information and fill it into the JSON response.\n",
        "\n",
        "The goal is to return a JSON object containing complete name, birthday, country, and profession information for all individuals referenced in the provided text passage.\n",
        "Notify if any individuals do not have enough information to complete their attributes after searching.\n",
        "\n",
        "Extract text from:\n",
        "{text2}\n",
        "'''"
      ],
      "metadata": {
        "id": "kosPHC3CBlD7"
      },
      "execution_count": null,
      "outputs": []
    },
    {
      "cell_type": "code",
      "source": [
        "## Extract information from text as JSON using openai\n",
        "## Model being used - GPT3.5 turbo\n",
        "\n",
        "import openai\n",
        "openai_response = openai.ChatCompletion.create(\n",
        "    model = 'gpt-3.5-turbo-0613',\n",
        "    # openai.api_key = openai_api_key,\n",
        "    messages = [{'role': 'user', 'content': prompt}]\n",
        ")"
      ],
      "metadata": {
        "id": "sYZYEAj0BpA2"
      },
      "execution_count": null,
      "outputs": []
    },
    {
      "cell_type": "code",
      "source": [
        "openai_response"
      ],
      "metadata": {
        "colab": {
          "base_uri": "https://localhost:8080/"
        },
        "id": "xF7ZBxkDBs4f",
        "outputId": "64754031-71b4-4c21-f10c-ba1391e6199a"
      },
      "execution_count": null,
      "outputs": [
        {
          "output_type": "execute_result",
          "data": {
            "text/plain": [
              "<OpenAIObject chat.completion id=chatcmpl-7yLVz8UJf9rk1QQqSoG7RPraPoFdo at 0x7bb234de2fc0> JSON: {\n",
              "  \"id\": \"chatcmpl-7yLVz8UJf9rk1QQqSoG7RPraPoFdo\",\n",
              "  \"object\": \"chat.completion\",\n",
              "  \"created\": 1694616739,\n",
              "  \"model\": \"gpt-3.5-turbo-0613\",\n",
              "  \"choices\": [\n",
              "    {\n",
              "      \"index\": 0,\n",
              "      \"message\": {\n",
              "        \"role\": \"assistant\",\n",
              "        \"content\": \"{\\n  \\\"individuals\\\": [\\n    {\\n      \\\"name\\\": \\\"Coco Gauff\\\",\\n      \\\"birthday\\\": \\\"2004-03-13\\\",\\n      \\\"country\\\": \\\"United States\\\",\\n      \\\"profession\\\": \\\"Professional Tennis Player\\\"\\n    },\\n    {\\n      \\\"name\\\": \\\"Aryna Sabalenka\\\",\\n      \\\"birthday\\\": \\\"1998-05-05\\\",\\n      \\\"country\\\": \\\"Belarus\\\",\\n      \\\"profession\\\": \\\"Professional Tennis Player\\\"\\n    }\\n  ]\\n}\"\n",
              "      },\n",
              "      \"finish_reason\": \"stop\"\n",
              "    }\n",
              "  ],\n",
              "  \"usage\": {\n",
              "    \"prompt_tokens\": 329,\n",
              "    \"completion_tokens\": 98,\n",
              "    \"total_tokens\": 427\n",
              "  }\n",
              "}"
            ]
          },
          "metadata": {},
          "execution_count": 25
        }
      ]
    },
    {
      "cell_type": "markdown",
      "source": [
        "## Convert to json"
      ],
      "metadata": {
        "id": "K_sZw-MfBug0"
      }
    },
    {
      "cell_type": "code",
      "source": [
        "import json\n",
        "\n",
        "# Loading the response as a JSON object\n",
        "json_response = json.loads(openai_response['choices'][0]['message']['content'])\n",
        "json_response"
      ],
      "metadata": {
        "colab": {
          "base_uri": "https://localhost:8080/"
        },
        "id": "zOcpxf7TBws6",
        "outputId": "b83161c4-5ef6-4598-dc26-be5eba790ec7"
      },
      "execution_count": null,
      "outputs": [
        {
          "output_type": "execute_result",
          "data": {
            "text/plain": [
              "{'individuals': [{'name': 'Coco Gauff',\n",
              "   'birthday': '2004-03-13',\n",
              "   'country': 'United States',\n",
              "   'profession': 'Professional Tennis Player'},\n",
              "  {'name': 'Aryna Sabalenka',\n",
              "   'birthday': '1998-05-05',\n",
              "   'country': 'Belarus',\n",
              "   'profession': 'Professional Tennis Player'}]}"
            ]
          },
          "metadata": {},
          "execution_count": 26
        }
      ]
    }
  ]
}